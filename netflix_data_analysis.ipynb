{
 "cells": [
  {
   "cell_type": "markdown",
   "id": "937acf3c-c077-4ca6-8d90-8f6dd4d13c54",
   "metadata": {},
   "source": [
    "![Movie popcorn on red background](redpopcorn.jpg)"
   ]
  },
  {
   "cell_type": "markdown",
   "id": "5962b2cd-17bb-4ec9-b2d5-68537ca26860",
   "metadata": {},
   "source": [
    "**Netflix**! What started in 1997 as a DVD rental service has since exploded into one of the largest entertainment and media companies.\n",
    "\n",
    "Given the large number of movies and series available on the platform, it is a perfect opportunity to flex your exploratory data analysis skills and dive into the entertainment industry. Our friend has also been brushing up on their Python skills and has taken a first crack at a CSV file containing Netflix data. They believe that the average duration of movies has been declining. Using your friends initial research, you'll delve into the Netflix data to see if you can determine whether movie lengths are actually getting shorter and explain some of the contributing factors, if any.\n",
    "\n",
    "You have been supplied with the dataset `netflix_data.csv` , along with the following table detailing the column names and descriptions. This data does contain null values and some outliers, but handling these is out of scope for the project. Feel free to experiment after submitting!\n",
    "\n",
    "## The data\n",
    "### **netflix_data.csv**\n",
    "| Column | Description |\n",
    "|--------|-------------|\n",
    "| `show_id` | The ID of the show |\n",
    "| `type` | Type of show |\n",
    "| `title` | Title of the show |\n",
    "| `director` | Director of the show |\n",
    "| `cast` | Cast of the show |\n",
    "| `country` | Country of origin |\n",
    "| `date_added` | Date added to Netflix |\n",
    "| `release_year` | Year of Netflix release |\n",
    "| `duration` | Duration of the show in minutes |\n",
    "| `description` | Description of the show |\n",
    "| `genre` | Show genre |"
   ]
  },
  {
   "cell_type": "code",
   "execution_count": 105,
   "id": "320a3abc-8a36-4b2b-baaf-473325363a4d",
   "metadata": {
    "executionCancelledAt": null,
    "executionTime": 11,
    "lastExecutedAt": 1711663023559,
    "lastScheduledRunId": null,
    "lastSuccessfullyExecutedCode": "# Importing pandas and matplotlib\nimport pandas as pd\nimport matplotlib.pyplot as plt\n\n# Start coding!"
   },
   "outputs": [],
   "source": [
    "# Importing pandas and matplotlib\n",
    "import pandas as pd\n",
    "import matplotlib.pyplot as plt\n",
    "\n",
    "# Start coding!"
   ]
  },
  {
   "cell_type": "code",
   "execution_count": 106,
   "id": "f451e734-82e8-49ad-8b11-ba44ccba1c4b",
   "metadata": {
    "executionCancelledAt": null,
    "executionTime": 47,
    "lastExecutedAt": 1711663023606,
    "lastScheduledRunId": null,
    "lastSuccessfullyExecutedCode": "netflix_df = pd.read_csv('netflix_data.csv')"
   },
   "outputs": [],
   "source": [
    "netflix_df = pd.read_csv('netflix_data.csv')"
   ]
  },
  {
   "cell_type": "code",
   "execution_count": 107,
   "id": "f698c0c6-a78a-49d0-8e57-a09985660898",
   "metadata": {
    "executionCancelledAt": null,
    "executionTime": 120,
    "lastExecutedAt": 1711663023726,
    "lastScheduledRunId": null,
    "lastSuccessfullyExecutedCode": "netflix_df.head(5)",
    "outputsMetadata": {
     "0": {
      "height": 213,
      "type": "dataFrame"
     }
    }
   },
   "outputs": [
    {
     "data": {
      "application/com.datacamp.data-table.v2+json": {
       "table": {
        "data": {
         "cast": [
          "João Miguel, Bianca Comparato, Michel Gomes, Rodolfo Valente, Vaneza Oliveira, Rafael Lozano, Viviane Porto, Mel Fronckowiak, Sergio Mamberti, Zezé Motta, Celso Frateschi",
          "Demián Bichir, Héctor Bonilla, Oscar Serrano, Azalia Ortiz, Octavio Michel, Carmen Beato",
          "Tedd Chan, Stella Chung, Henley Hii, Lawrence Koh, Tommy Kuan, Josh Lai, Mark Lee, Susan Leong, Benjamin Lim",
          "Elijah Wood, John C. Reilly, Jennifer Connelly, Christopher Plummer, Crispin Glover, Martin Landau, Fred Tatasciore, Alan Oppenheimer, Tom Kane",
          "Jim Sturgess, Kevin Spacey, Kate Bosworth, Aaron Yoo, Liza Lapira, Jacob Pitts, Laurence Fishburne, Jack McGee, Josh Gad, Sam Golzari, Helen Carey, Jack Gilpin"
         ],
         "country": [
          "Brazil",
          "Mexico",
          "Singapore",
          "United States",
          "United States"
         ],
         "date_added": [
          "August 14, 2020",
          "December 23, 2016",
          "December 20, 2018",
          "November 16, 2017",
          "January 1, 2020"
         ],
         "description": [
          "In a future where the elite inhabit an island paradise far from the crowded slums, you get one chance to join the 3% saved from squalor.",
          "After a devastating earthquake hits Mexico City, trapped survivors from all walks of life wait to be rescued while trying desperately to stay alive.",
          "When an army recruit is found dead, his fellow soldiers are forced to confront a terrifying secret that's haunting their jungle island training camp.",
          "In a postapocalyptic world, rag-doll robots hide in fear from dangerous machines out to exterminate them, until a brave newcomer joins the group.",
          "A brilliant group of students become card-counting experts with the intent of swindling millions out of Las Vegas casinos by playing blackjack."
         ],
         "director": [
          null,
          "Jorge Michel Grau",
          "Gilbert Chan",
          "Shane Acker",
          "Robert Luketic"
         ],
         "duration": [
          4,
          93,
          78,
          80,
          123
         ],
         "genre": [
          "International TV",
          "Dramas",
          "Horror Movies",
          "Action",
          "Dramas"
         ],
         "index": [
          0,
          1,
          2,
          3,
          4
         ],
         "release_year": [
          2020,
          2016,
          2011,
          2009,
          2008
         ],
         "show_id": [
          "s1",
          "s2",
          "s3",
          "s4",
          "s5"
         ],
         "title": [
          "3%",
          "7:19",
          "23:59",
          "9",
          "21"
         ],
         "type": [
          "TV Show",
          "Movie",
          "Movie",
          "Movie",
          "Movie"
         ]
        },
        "schema": {
         "fields": [
          {
           "name": "index",
           "type": "integer"
          },
          {
           "name": "show_id",
           "type": "string"
          },
          {
           "name": "type",
           "type": "string"
          },
          {
           "name": "title",
           "type": "string"
          },
          {
           "name": "director",
           "type": "string"
          },
          {
           "name": "cast",
           "type": "string"
          },
          {
           "name": "country",
           "type": "string"
          },
          {
           "name": "date_added",
           "type": "string"
          },
          {
           "name": "release_year",
           "type": "integer"
          },
          {
           "name": "duration",
           "type": "integer"
          },
          {
           "name": "description",
           "type": "string"
          },
          {
           "name": "genre",
           "type": "string"
          }
         ],
         "pandas_version": "1.4.0",
         "primaryKey": [
          "index"
         ]
        }
       },
       "total_rows": 5,
       "truncation_type": null
      },
      "text/html": [
       "<div>\n",
       "<style scoped>\n",
       "    .dataframe tbody tr th:only-of-type {\n",
       "        vertical-align: middle;\n",
       "    }\n",
       "\n",
       "    .dataframe tbody tr th {\n",
       "        vertical-align: top;\n",
       "    }\n",
       "\n",
       "    .dataframe thead th {\n",
       "        text-align: right;\n",
       "    }\n",
       "</style>\n",
       "<table border=\"1\" class=\"dataframe\">\n",
       "  <thead>\n",
       "    <tr style=\"text-align: right;\">\n",
       "      <th></th>\n",
       "      <th>show_id</th>\n",
       "      <th>type</th>\n",
       "      <th>title</th>\n",
       "      <th>director</th>\n",
       "      <th>cast</th>\n",
       "      <th>country</th>\n",
       "      <th>date_added</th>\n",
       "      <th>release_year</th>\n",
       "      <th>duration</th>\n",
       "      <th>description</th>\n",
       "      <th>genre</th>\n",
       "    </tr>\n",
       "  </thead>\n",
       "  <tbody>\n",
       "    <tr>\n",
       "      <th>0</th>\n",
       "      <td>s1</td>\n",
       "      <td>TV Show</td>\n",
       "      <td>3%</td>\n",
       "      <td>NaN</td>\n",
       "      <td>João Miguel, Bianca Comparato, Michel Gomes, R...</td>\n",
       "      <td>Brazil</td>\n",
       "      <td>August 14, 2020</td>\n",
       "      <td>2020</td>\n",
       "      <td>4</td>\n",
       "      <td>In a future where the elite inhabit an island ...</td>\n",
       "      <td>International TV</td>\n",
       "    </tr>\n",
       "    <tr>\n",
       "      <th>1</th>\n",
       "      <td>s2</td>\n",
       "      <td>Movie</td>\n",
       "      <td>7:19</td>\n",
       "      <td>Jorge Michel Grau</td>\n",
       "      <td>Demián Bichir, Héctor Bonilla, Oscar Serrano, ...</td>\n",
       "      <td>Mexico</td>\n",
       "      <td>December 23, 2016</td>\n",
       "      <td>2016</td>\n",
       "      <td>93</td>\n",
       "      <td>After a devastating earthquake hits Mexico Cit...</td>\n",
       "      <td>Dramas</td>\n",
       "    </tr>\n",
       "    <tr>\n",
       "      <th>2</th>\n",
       "      <td>s3</td>\n",
       "      <td>Movie</td>\n",
       "      <td>23:59</td>\n",
       "      <td>Gilbert Chan</td>\n",
       "      <td>Tedd Chan, Stella Chung, Henley Hii, Lawrence ...</td>\n",
       "      <td>Singapore</td>\n",
       "      <td>December 20, 2018</td>\n",
       "      <td>2011</td>\n",
       "      <td>78</td>\n",
       "      <td>When an army recruit is found dead, his fellow...</td>\n",
       "      <td>Horror Movies</td>\n",
       "    </tr>\n",
       "    <tr>\n",
       "      <th>3</th>\n",
       "      <td>s4</td>\n",
       "      <td>Movie</td>\n",
       "      <td>9</td>\n",
       "      <td>Shane Acker</td>\n",
       "      <td>Elijah Wood, John C. Reilly, Jennifer Connelly...</td>\n",
       "      <td>United States</td>\n",
       "      <td>November 16, 2017</td>\n",
       "      <td>2009</td>\n",
       "      <td>80</td>\n",
       "      <td>In a postapocalyptic world, rag-doll robots hi...</td>\n",
       "      <td>Action</td>\n",
       "    </tr>\n",
       "    <tr>\n",
       "      <th>4</th>\n",
       "      <td>s5</td>\n",
       "      <td>Movie</td>\n",
       "      <td>21</td>\n",
       "      <td>Robert Luketic</td>\n",
       "      <td>Jim Sturgess, Kevin Spacey, Kate Bosworth, Aar...</td>\n",
       "      <td>United States</td>\n",
       "      <td>January 1, 2020</td>\n",
       "      <td>2008</td>\n",
       "      <td>123</td>\n",
       "      <td>A brilliant group of students become card-coun...</td>\n",
       "      <td>Dramas</td>\n",
       "    </tr>\n",
       "  </tbody>\n",
       "</table>\n",
       "</div>"
      ],
      "text/plain": [
       "  show_id  ...             genre\n",
       "0      s1  ...  International TV\n",
       "1      s2  ...            Dramas\n",
       "2      s3  ...     Horror Movies\n",
       "3      s4  ...            Action\n",
       "4      s5  ...            Dramas\n",
       "\n",
       "[5 rows x 11 columns]"
      ]
     },
     "execution_count": 107,
     "metadata": {},
     "output_type": "execute_result"
    }
   ],
   "source": [
    "netflix_df.head(5)"
   ]
  },
  {
   "cell_type": "code",
   "execution_count": 108,
   "id": "da11c1e6-01dd-4e36-8039-814db34155da",
   "metadata": {
    "collapsed": false,
    "executionCancelledAt": null,
    "executionTime": 129,
    "jupyter": {
     "outputs_hidden": false,
     "source_hidden": false
    },
    "lastExecutedAt": 1711663023855,
    "lastScheduledRunId": null,
    "lastSuccessfullyExecutedCode": "netflix_subset = netflix_df[netflix_df['type'] != 'TV Show']\nnetflix_subset.head(10)",
    "outputsMetadata": {
     "0": {
      "height": 338,
      "type": "dataFrame"
     }
    }
   },
   "outputs": [
    {
     "data": {
      "application/com.datacamp.data-table.v2+json": {
       "table": {
        "data": {
         "cast": [
          "Demián Bichir, Héctor Bonilla, Oscar Serrano, Azalia Ortiz, Octavio Michel, Carmen Beato",
          "Tedd Chan, Stella Chung, Henley Hii, Lawrence Koh, Tommy Kuan, Josh Lai, Mark Lee, Susan Leong, Benjamin Lim",
          "Elijah Wood, John C. Reilly, Jennifer Connelly, Christopher Plummer, Crispin Glover, Martin Landau, Fred Tatasciore, Alan Oppenheimer, Tom Kane",
          "Jim Sturgess, Kevin Spacey, Kate Bosworth, Aaron Yoo, Liza Lapira, Jacob Pitts, Laurence Fishburne, Jack McGee, Josh Gad, Sam Golzari, Helen Carey, Jack Gilpin",
          "Amina Khalil, Ahmed Dawood, Tarek Lotfy, Ahmed El Fishawy, Mahmoud Hijazi, Jihane Khalil, Asmaa Galal, Tara Emad",
          "Samuel L. Jackson, John Heard, Kelly Rowan, Clifton Collins Jr., Tony Plana",
          "Divya Dutta, Atul Kulkarni, Mohan Agashe, Anupam Shyam, Raayo S. Bakhirta, Yashvit Sancheti, Greeva Kansara, Archan Trivedi, Rajiv Pathak",
          "Rajneesh Duggal, Adah Sharma, Indraneil Sengupta, Anjori Alagh, Rajendranath Zutshi, Vipin Sharma, Amin Hajee, Shri Vallabh Vyas",
          "Thomas Jane, Molly Parker, Dylan Schmid, Kaitlyn Bernard, Bob Frazer, Brian d'Arcy James, Neal McDonough",
          "Artiwara Kongmalai"
         ],
         "country": [
          "Mexico",
          "Singapore",
          "United States",
          "United States",
          "Egypt",
          "United States",
          "India",
          "India",
          "United States",
          "Thailand"
         ],
         "date_added": [
          "December 23, 2016",
          "December 20, 2018",
          "November 16, 2017",
          "January 1, 2020",
          "June 1, 2020",
          "November 1, 2019",
          "April 1, 2019",
          "December 15, 2017",
          "October 20, 2017",
          "March 1, 2019"
         ],
         "description": [
          "After a devastating earthquake hits Mexico City, trapped survivors from all walks of life wait to be rescued while trying desperately to stay alive.",
          "When an army recruit is found dead, his fellow soldiers are forced to confront a terrifying secret that's haunting their jungle island training camp.",
          "In a postapocalyptic world, rag-doll robots hide in fear from dangerous machines out to exterminate them, until a brave newcomer joins the group.",
          "A brilliant group of students become card-counting experts with the intent of swindling millions out of Las Vegas casinos by playing blackjack.",
          "After an awful accident, a couple admitted to a grisly hospital are separated and must find each other to escape — before death finds them.",
          "After one of his high school students attacks him, dedicated teacher Trevor Garfield grows weary of the gang warfare in the New York City school system and moves to California to teach there, thinking it must be a less hostile environment.",
          "When a doctor goes missing, his psychiatrist wife treats the bizarre medical condition of a psychic patient, who knows much more than he's leading on.",
          "An architect and his wife move into a castle that is slated to become a luxury hotel. But something inside is determined to stop the renovation.",
          "A farmer pens a confession admitting to his wife's murder, but her death is just the beginning of a macabre tale. Based on Stephen King's novella.",
          "This intimate documentary follows rock star Artiwara Kongmalai on his historic, 2,215-kilometer charity run across Thailand in 2017."
         ],
         "director": [
          "Jorge Michel Grau",
          "Gilbert Chan",
          "Shane Acker",
          "Robert Luketic",
          "Yasir Al Yasiri",
          "Kevin Reynolds",
          "Shravan Kumar",
          "Vikram Bhatt",
          "Zak Hilditch",
          "Nottapon Boonprakob"
         ],
         "duration": [
          93,
          78,
          80,
          123,
          95,
          119,
          118,
          143,
          103,
          89
         ],
         "genre": [
          "Dramas",
          "Horror Movies",
          "Action",
          "Dramas",
          "Horror Movies",
          "Dramas",
          "Horror Movies",
          "Horror Movies",
          "Dramas",
          "Documentaries"
         ],
         "index": [
          1,
          2,
          3,
          4,
          6,
          7,
          8,
          9,
          10,
          13
         ],
         "release_year": [
          2016,
          2011,
          2009,
          2008,
          2019,
          1997,
          2019,
          2008,
          2017,
          2018
         ],
         "show_id": [
          "s2",
          "s3",
          "s4",
          "s5",
          "s7",
          "s8",
          "s9",
          "s10",
          "s11",
          "s14"
         ],
         "title": [
          "7:19",
          "23:59",
          "9",
          "21",
          "122",
          "187",
          "706",
          "1920",
          "1922",
          "2,215"
         ],
         "type": [
          "Movie",
          "Movie",
          "Movie",
          "Movie",
          "Movie",
          "Movie",
          "Movie",
          "Movie",
          "Movie",
          "Movie"
         ]
        },
        "schema": {
         "fields": [
          {
           "name": "index",
           "type": "integer"
          },
          {
           "name": "show_id",
           "type": "string"
          },
          {
           "name": "type",
           "type": "string"
          },
          {
           "name": "title",
           "type": "string"
          },
          {
           "name": "director",
           "type": "string"
          },
          {
           "name": "cast",
           "type": "string"
          },
          {
           "name": "country",
           "type": "string"
          },
          {
           "name": "date_added",
           "type": "string"
          },
          {
           "name": "release_year",
           "type": "integer"
          },
          {
           "name": "duration",
           "type": "integer"
          },
          {
           "name": "description",
           "type": "string"
          },
          {
           "name": "genre",
           "type": "string"
          }
         ],
         "pandas_version": "1.4.0",
         "primaryKey": [
          "index"
         ]
        }
       },
       "total_rows": 10,
       "truncation_type": null
      },
      "text/html": [
       "<div>\n",
       "<style scoped>\n",
       "    .dataframe tbody tr th:only-of-type {\n",
       "        vertical-align: middle;\n",
       "    }\n",
       "\n",
       "    .dataframe tbody tr th {\n",
       "        vertical-align: top;\n",
       "    }\n",
       "\n",
       "    .dataframe thead th {\n",
       "        text-align: right;\n",
       "    }\n",
       "</style>\n",
       "<table border=\"1\" class=\"dataframe\">\n",
       "  <thead>\n",
       "    <tr style=\"text-align: right;\">\n",
       "      <th></th>\n",
       "      <th>show_id</th>\n",
       "      <th>type</th>\n",
       "      <th>title</th>\n",
       "      <th>director</th>\n",
       "      <th>cast</th>\n",
       "      <th>country</th>\n",
       "      <th>date_added</th>\n",
       "      <th>release_year</th>\n",
       "      <th>duration</th>\n",
       "      <th>description</th>\n",
       "      <th>genre</th>\n",
       "    </tr>\n",
       "  </thead>\n",
       "  <tbody>\n",
       "    <tr>\n",
       "      <th>1</th>\n",
       "      <td>s2</td>\n",
       "      <td>Movie</td>\n",
       "      <td>7:19</td>\n",
       "      <td>Jorge Michel Grau</td>\n",
       "      <td>Demián Bichir, Héctor Bonilla, Oscar Serrano, ...</td>\n",
       "      <td>Mexico</td>\n",
       "      <td>December 23, 2016</td>\n",
       "      <td>2016</td>\n",
       "      <td>93</td>\n",
       "      <td>After a devastating earthquake hits Mexico Cit...</td>\n",
       "      <td>Dramas</td>\n",
       "    </tr>\n",
       "    <tr>\n",
       "      <th>2</th>\n",
       "      <td>s3</td>\n",
       "      <td>Movie</td>\n",
       "      <td>23:59</td>\n",
       "      <td>Gilbert Chan</td>\n",
       "      <td>Tedd Chan, Stella Chung, Henley Hii, Lawrence ...</td>\n",
       "      <td>Singapore</td>\n",
       "      <td>December 20, 2018</td>\n",
       "      <td>2011</td>\n",
       "      <td>78</td>\n",
       "      <td>When an army recruit is found dead, his fellow...</td>\n",
       "      <td>Horror Movies</td>\n",
       "    </tr>\n",
       "    <tr>\n",
       "      <th>3</th>\n",
       "      <td>s4</td>\n",
       "      <td>Movie</td>\n",
       "      <td>9</td>\n",
       "      <td>Shane Acker</td>\n",
       "      <td>Elijah Wood, John C. Reilly, Jennifer Connelly...</td>\n",
       "      <td>United States</td>\n",
       "      <td>November 16, 2017</td>\n",
       "      <td>2009</td>\n",
       "      <td>80</td>\n",
       "      <td>In a postapocalyptic world, rag-doll robots hi...</td>\n",
       "      <td>Action</td>\n",
       "    </tr>\n",
       "    <tr>\n",
       "      <th>4</th>\n",
       "      <td>s5</td>\n",
       "      <td>Movie</td>\n",
       "      <td>21</td>\n",
       "      <td>Robert Luketic</td>\n",
       "      <td>Jim Sturgess, Kevin Spacey, Kate Bosworth, Aar...</td>\n",
       "      <td>United States</td>\n",
       "      <td>January 1, 2020</td>\n",
       "      <td>2008</td>\n",
       "      <td>123</td>\n",
       "      <td>A brilliant group of students become card-coun...</td>\n",
       "      <td>Dramas</td>\n",
       "    </tr>\n",
       "    <tr>\n",
       "      <th>6</th>\n",
       "      <td>s7</td>\n",
       "      <td>Movie</td>\n",
       "      <td>122</td>\n",
       "      <td>Yasir Al Yasiri</td>\n",
       "      <td>Amina Khalil, Ahmed Dawood, Tarek Lotfy, Ahmed...</td>\n",
       "      <td>Egypt</td>\n",
       "      <td>June 1, 2020</td>\n",
       "      <td>2019</td>\n",
       "      <td>95</td>\n",
       "      <td>After an awful accident, a couple admitted to ...</td>\n",
       "      <td>Horror Movies</td>\n",
       "    </tr>\n",
       "    <tr>\n",
       "      <th>7</th>\n",
       "      <td>s8</td>\n",
       "      <td>Movie</td>\n",
       "      <td>187</td>\n",
       "      <td>Kevin Reynolds</td>\n",
       "      <td>Samuel L. Jackson, John Heard, Kelly Rowan, Cl...</td>\n",
       "      <td>United States</td>\n",
       "      <td>November 1, 2019</td>\n",
       "      <td>1997</td>\n",
       "      <td>119</td>\n",
       "      <td>After one of his high school students attacks ...</td>\n",
       "      <td>Dramas</td>\n",
       "    </tr>\n",
       "    <tr>\n",
       "      <th>8</th>\n",
       "      <td>s9</td>\n",
       "      <td>Movie</td>\n",
       "      <td>706</td>\n",
       "      <td>Shravan Kumar</td>\n",
       "      <td>Divya Dutta, Atul Kulkarni, Mohan Agashe, Anup...</td>\n",
       "      <td>India</td>\n",
       "      <td>April 1, 2019</td>\n",
       "      <td>2019</td>\n",
       "      <td>118</td>\n",
       "      <td>When a doctor goes missing, his psychiatrist w...</td>\n",
       "      <td>Horror Movies</td>\n",
       "    </tr>\n",
       "    <tr>\n",
       "      <th>9</th>\n",
       "      <td>s10</td>\n",
       "      <td>Movie</td>\n",
       "      <td>1920</td>\n",
       "      <td>Vikram Bhatt</td>\n",
       "      <td>Rajneesh Duggal, Adah Sharma, Indraneil Sengup...</td>\n",
       "      <td>India</td>\n",
       "      <td>December 15, 2017</td>\n",
       "      <td>2008</td>\n",
       "      <td>143</td>\n",
       "      <td>An architect and his wife move into a castle t...</td>\n",
       "      <td>Horror Movies</td>\n",
       "    </tr>\n",
       "    <tr>\n",
       "      <th>10</th>\n",
       "      <td>s11</td>\n",
       "      <td>Movie</td>\n",
       "      <td>1922</td>\n",
       "      <td>Zak Hilditch</td>\n",
       "      <td>Thomas Jane, Molly Parker, Dylan Schmid, Kaitl...</td>\n",
       "      <td>United States</td>\n",
       "      <td>October 20, 2017</td>\n",
       "      <td>2017</td>\n",
       "      <td>103</td>\n",
       "      <td>A farmer pens a confession admitting to his wi...</td>\n",
       "      <td>Dramas</td>\n",
       "    </tr>\n",
       "    <tr>\n",
       "      <th>13</th>\n",
       "      <td>s14</td>\n",
       "      <td>Movie</td>\n",
       "      <td>2,215</td>\n",
       "      <td>Nottapon Boonprakob</td>\n",
       "      <td>Artiwara Kongmalai</td>\n",
       "      <td>Thailand</td>\n",
       "      <td>March 1, 2019</td>\n",
       "      <td>2018</td>\n",
       "      <td>89</td>\n",
       "      <td>This intimate documentary follows rock star Ar...</td>\n",
       "      <td>Documentaries</td>\n",
       "    </tr>\n",
       "  </tbody>\n",
       "</table>\n",
       "</div>"
      ],
      "text/plain": [
       "   show_id  ...          genre\n",
       "1       s2  ...         Dramas\n",
       "2       s3  ...  Horror Movies\n",
       "3       s4  ...         Action\n",
       "4       s5  ...         Dramas\n",
       "6       s7  ...  Horror Movies\n",
       "7       s8  ...         Dramas\n",
       "8       s9  ...  Horror Movies\n",
       "9      s10  ...  Horror Movies\n",
       "10     s11  ...         Dramas\n",
       "13     s14  ...  Documentaries\n",
       "\n",
       "[10 rows x 11 columns]"
      ]
     },
     "execution_count": 108,
     "metadata": {},
     "output_type": "execute_result"
    }
   ],
   "source": [
    "netflix_subset = netflix_df[netflix_df['type'] != 'TV Show']\n",
    "netflix_subset.head(10)"
   ]
  },
  {
   "cell_type": "code",
   "execution_count": 109,
   "id": "c35cbd7d-1cef-4354-897e-7eeabd3dac66",
   "metadata": {
    "executionCancelledAt": null,
    "executionTime": 59,
    "lastExecutedAt": 1711663023914,
    "lastScheduledRunId": null,
    "lastSuccessfullyExecutedCode": "netflix_movies = netflix_subset.loc[:, ['title', 'country', 'genre', 'release_year', 'duration']]\nnetflix_movies.head(5)",
    "outputsMetadata": {
     "0": {
      "height": 198,
      "type": "dataFrame"
     }
    }
   },
   "outputs": [
    {
     "data": {
      "application/com.datacamp.data-table.v2+json": {
       "table": {
        "data": {
         "country": [
          "Mexico",
          "Singapore",
          "United States",
          "United States",
          "Egypt"
         ],
         "duration": [
          93,
          78,
          80,
          123,
          95
         ],
         "genre": [
          "Dramas",
          "Horror Movies",
          "Action",
          "Dramas",
          "Horror Movies"
         ],
         "index": [
          1,
          2,
          3,
          4,
          6
         ],
         "release_year": [
          2016,
          2011,
          2009,
          2008,
          2019
         ],
         "title": [
          "7:19",
          "23:59",
          "9",
          "21",
          "122"
         ]
        },
        "schema": {
         "fields": [
          {
           "name": "index",
           "type": "integer"
          },
          {
           "name": "title",
           "type": "string"
          },
          {
           "name": "country",
           "type": "string"
          },
          {
           "name": "genre",
           "type": "string"
          },
          {
           "name": "release_year",
           "type": "integer"
          },
          {
           "name": "duration",
           "type": "integer"
          }
         ],
         "pandas_version": "1.4.0",
         "primaryKey": [
          "index"
         ]
        }
       },
       "total_rows": 5,
       "truncation_type": null
      },
      "text/html": [
       "<div>\n",
       "<style scoped>\n",
       "    .dataframe tbody tr th:only-of-type {\n",
       "        vertical-align: middle;\n",
       "    }\n",
       "\n",
       "    .dataframe tbody tr th {\n",
       "        vertical-align: top;\n",
       "    }\n",
       "\n",
       "    .dataframe thead th {\n",
       "        text-align: right;\n",
       "    }\n",
       "</style>\n",
       "<table border=\"1\" class=\"dataframe\">\n",
       "  <thead>\n",
       "    <tr style=\"text-align: right;\">\n",
       "      <th></th>\n",
       "      <th>title</th>\n",
       "      <th>country</th>\n",
       "      <th>genre</th>\n",
       "      <th>release_year</th>\n",
       "      <th>duration</th>\n",
       "    </tr>\n",
       "  </thead>\n",
       "  <tbody>\n",
       "    <tr>\n",
       "      <th>1</th>\n",
       "      <td>7:19</td>\n",
       "      <td>Mexico</td>\n",
       "      <td>Dramas</td>\n",
       "      <td>2016</td>\n",
       "      <td>93</td>\n",
       "    </tr>\n",
       "    <tr>\n",
       "      <th>2</th>\n",
       "      <td>23:59</td>\n",
       "      <td>Singapore</td>\n",
       "      <td>Horror Movies</td>\n",
       "      <td>2011</td>\n",
       "      <td>78</td>\n",
       "    </tr>\n",
       "    <tr>\n",
       "      <th>3</th>\n",
       "      <td>9</td>\n",
       "      <td>United States</td>\n",
       "      <td>Action</td>\n",
       "      <td>2009</td>\n",
       "      <td>80</td>\n",
       "    </tr>\n",
       "    <tr>\n",
       "      <th>4</th>\n",
       "      <td>21</td>\n",
       "      <td>United States</td>\n",
       "      <td>Dramas</td>\n",
       "      <td>2008</td>\n",
       "      <td>123</td>\n",
       "    </tr>\n",
       "    <tr>\n",
       "      <th>6</th>\n",
       "      <td>122</td>\n",
       "      <td>Egypt</td>\n",
       "      <td>Horror Movies</td>\n",
       "      <td>2019</td>\n",
       "      <td>95</td>\n",
       "    </tr>\n",
       "  </tbody>\n",
       "</table>\n",
       "</div>"
      ],
      "text/plain": [
       "   title        country          genre  release_year  duration\n",
       "1   7:19         Mexico         Dramas          2016        93\n",
       "2  23:59      Singapore  Horror Movies          2011        78\n",
       "3      9  United States         Action          2009        80\n",
       "4     21  United States         Dramas          2008       123\n",
       "6    122          Egypt  Horror Movies          2019        95"
      ]
     },
     "execution_count": 109,
     "metadata": {},
     "output_type": "execute_result"
    }
   ],
   "source": [
    "netflix_movies = netflix_subset.loc[:, ['title', 'country', 'genre', 'release_year', 'duration']]\n",
    "netflix_movies.head(5)"
   ]
  },
  {
   "cell_type": "code",
   "execution_count": 110,
   "id": "6d4e90a6-a3ca-4bde-9d72-414b6c4ebe73",
   "metadata": {
    "chartConfig": {
     "bar": {
      "hasRoundedCorners": true,
      "stacked": false
     },
     "type": "bar",
     "version": "v1"
    },
    "executionCancelledAt": null,
    "executionTime": 72,
    "lastExecutedAt": 1711663023986,
    "lastScheduledRunId": null,
    "lastSuccessfullyExecutedCode": "short_movies = netflix_movies[netflix_movies['duration'] < 60]\nshort_movies.head(10)",
    "outputsMetadata": {
     "0": {
      "height": 323,
      "type": "dataFrame"
     }
    },
    "visualizeDataframe": false
   },
   "outputs": [
    {
     "data": {
      "application/com.datacamp.data-table.v2+json": {
       "table": {
        "data": {
         "country": [
          "United States",
          "United States",
          null,
          "Canada",
          "Mexico",
          "France",
          "United States",
          "United States",
          null,
          null
         ],
         "duration": [
          56,
          44,
          37,
          53,
          28,
          22,
          29,
          22,
          22,
          21
         ],
         "genre": [
          "Documentaries",
          "Uncategorized",
          "Uncategorized",
          "Documentaries",
          "Documentaries",
          "Uncategorized",
          "Uncategorized",
          "Children",
          "Children",
          "Children"
         ],
         "index": [
          35,
          55,
          67,
          101,
          146,
          162,
          171,
          177,
          178,
          179
         ],
         "release_year": [
          2016,
          2014,
          2017,
          2018,
          2019,
          2016,
          2019,
          2020,
          2020,
          2020
         ],
         "title": [
          "#Rucker50",
          "100 Things to do Before High School",
          "13TH: A Conversation with Oprah Winfrey & Ava DuVernay",
          "3 Seconds Divorce",
          "A 3 Minute Hug",
          "A Christmas Special: Miraculous: Tales of Ladybug & Cat Noir",
          "A Family Reunion Christmas",
          "A Go! Go! Cory Carson Christmas",
          "A Go! Go! Cory Carson Halloween",
          "A Go! Go! Cory Carson Summer Camp"
         ]
        },
        "schema": {
         "fields": [
          {
           "name": "index",
           "type": "integer"
          },
          {
           "name": "title",
           "type": "string"
          },
          {
           "name": "country",
           "type": "string"
          },
          {
           "name": "genre",
           "type": "string"
          },
          {
           "name": "release_year",
           "type": "integer"
          },
          {
           "name": "duration",
           "type": "integer"
          }
         ],
         "pandas_version": "1.4.0",
         "primaryKey": [
          "index"
         ]
        }
       },
       "total_rows": 10,
       "truncation_type": null
      },
      "text/html": [
       "<div>\n",
       "<style scoped>\n",
       "    .dataframe tbody tr th:only-of-type {\n",
       "        vertical-align: middle;\n",
       "    }\n",
       "\n",
       "    .dataframe tbody tr th {\n",
       "        vertical-align: top;\n",
       "    }\n",
       "\n",
       "    .dataframe thead th {\n",
       "        text-align: right;\n",
       "    }\n",
       "</style>\n",
       "<table border=\"1\" class=\"dataframe\">\n",
       "  <thead>\n",
       "    <tr style=\"text-align: right;\">\n",
       "      <th></th>\n",
       "      <th>title</th>\n",
       "      <th>country</th>\n",
       "      <th>genre</th>\n",
       "      <th>release_year</th>\n",
       "      <th>duration</th>\n",
       "    </tr>\n",
       "  </thead>\n",
       "  <tbody>\n",
       "    <tr>\n",
       "      <th>35</th>\n",
       "      <td>#Rucker50</td>\n",
       "      <td>United States</td>\n",
       "      <td>Documentaries</td>\n",
       "      <td>2016</td>\n",
       "      <td>56</td>\n",
       "    </tr>\n",
       "    <tr>\n",
       "      <th>55</th>\n",
       "      <td>100 Things to do Before High School</td>\n",
       "      <td>United States</td>\n",
       "      <td>Uncategorized</td>\n",
       "      <td>2014</td>\n",
       "      <td>44</td>\n",
       "    </tr>\n",
       "    <tr>\n",
       "      <th>67</th>\n",
       "      <td>13TH: A Conversation with Oprah Winfrey &amp; Ava ...</td>\n",
       "      <td>NaN</td>\n",
       "      <td>Uncategorized</td>\n",
       "      <td>2017</td>\n",
       "      <td>37</td>\n",
       "    </tr>\n",
       "    <tr>\n",
       "      <th>101</th>\n",
       "      <td>3 Seconds Divorce</td>\n",
       "      <td>Canada</td>\n",
       "      <td>Documentaries</td>\n",
       "      <td>2018</td>\n",
       "      <td>53</td>\n",
       "    </tr>\n",
       "    <tr>\n",
       "      <th>146</th>\n",
       "      <td>A 3 Minute Hug</td>\n",
       "      <td>Mexico</td>\n",
       "      <td>Documentaries</td>\n",
       "      <td>2019</td>\n",
       "      <td>28</td>\n",
       "    </tr>\n",
       "    <tr>\n",
       "      <th>162</th>\n",
       "      <td>A Christmas Special: Miraculous: Tales of Lady...</td>\n",
       "      <td>France</td>\n",
       "      <td>Uncategorized</td>\n",
       "      <td>2016</td>\n",
       "      <td>22</td>\n",
       "    </tr>\n",
       "    <tr>\n",
       "      <th>171</th>\n",
       "      <td>A Family Reunion Christmas</td>\n",
       "      <td>United States</td>\n",
       "      <td>Uncategorized</td>\n",
       "      <td>2019</td>\n",
       "      <td>29</td>\n",
       "    </tr>\n",
       "    <tr>\n",
       "      <th>177</th>\n",
       "      <td>A Go! Go! Cory Carson Christmas</td>\n",
       "      <td>United States</td>\n",
       "      <td>Children</td>\n",
       "      <td>2020</td>\n",
       "      <td>22</td>\n",
       "    </tr>\n",
       "    <tr>\n",
       "      <th>178</th>\n",
       "      <td>A Go! Go! Cory Carson Halloween</td>\n",
       "      <td>NaN</td>\n",
       "      <td>Children</td>\n",
       "      <td>2020</td>\n",
       "      <td>22</td>\n",
       "    </tr>\n",
       "    <tr>\n",
       "      <th>179</th>\n",
       "      <td>A Go! Go! Cory Carson Summer Camp</td>\n",
       "      <td>NaN</td>\n",
       "      <td>Children</td>\n",
       "      <td>2020</td>\n",
       "      <td>21</td>\n",
       "    </tr>\n",
       "  </tbody>\n",
       "</table>\n",
       "</div>"
      ],
      "text/plain": [
       "                                                 title  ... duration\n",
       "35                                           #Rucker50  ...       56\n",
       "55                 100 Things to do Before High School  ...       44\n",
       "67   13TH: A Conversation with Oprah Winfrey & Ava ...  ...       37\n",
       "101                                  3 Seconds Divorce  ...       53\n",
       "146                                     A 3 Minute Hug  ...       28\n",
       "162  A Christmas Special: Miraculous: Tales of Lady...  ...       22\n",
       "171                         A Family Reunion Christmas  ...       29\n",
       "177                    A Go! Go! Cory Carson Christmas  ...       22\n",
       "178                    A Go! Go! Cory Carson Halloween  ...       22\n",
       "179                  A Go! Go! Cory Carson Summer Camp  ...       21\n",
       "\n",
       "[10 rows x 5 columns]"
      ]
     },
     "execution_count": 110,
     "metadata": {},
     "output_type": "execute_result"
    }
   ],
   "source": [
    "short_movies = netflix_movies[netflix_movies['duration'] < 60]\n",
    "short_movies.head(10)"
   ]
  },
  {
   "cell_type": "code",
   "execution_count": 111,
   "id": "1570ad4b-0051-4306-a22d-eb7d6fa66c5f",
   "metadata": {
    "executionCancelledAt": null,
    "executionTime": 52,
    "lastExecutedAt": 1711663024038,
    "lastScheduledRunId": null,
    "lastSuccessfullyExecutedCode": "print(short_movies['genre'].value_counts())\n",
    "outputsMetadata": {
     "0": {
      "height": 277,
      "type": "stream"
     }
    }
   },
   "outputs": [
    {
     "name": "stdout",
     "output_type": "stream",
     "text": [
      "Documentaries           151\n",
      "Children                107\n",
      "Stand-Up                 72\n",
      "Uncategorized            40\n",
      "Comedies                 15\n",
      "Dramas                   12\n",
      "Classic Movies            8\n",
      "Action                    6\n",
      "International Movies      3\n",
      "Anime Features            3\n",
      "Music                     2\n",
      "Horror Movies             1\n",
      "Name: genre, dtype: int64\n"
     ]
    }
   ],
   "source": [
    "print(short_movies['genre'].value_counts())\n"
   ]
  },
  {
   "cell_type": "markdown",
   "id": "8682bffb-5993-4e7a-801b-d44fa0cb8efa",
   "metadata": {},
   "source": [
    "# We see that the majority of these films under 60 mins in length are documentaries, children movies, or stand-up comedies. Interesting thing to note...."
   ]
  },
  {
   "cell_type": "code",
   "execution_count": 112,
   "id": "c00ced4f-f754-4445-9c20-af95bb37ce10",
   "metadata": {
    "executionCancelledAt": null,
    "executionTime": 53,
    "lastExecutedAt": 1711663024091,
    "lastScheduledRunId": null,
    "lastSuccessfullyExecutedCode": "colors = []\nfor genre in netflix_movies['genre']:\n    if genre == 'Children':\n        colors.append('blue')\n    elif genre == 'Documentaries':\n        colors.append('red')\n    else:\n        colors.append('black')\n        \n#print(colors)",
    "outputsMetadata": {
     "0": {
      "height": 601,
      "type": "stream"
     }
    }
   },
   "outputs": [],
   "source": [
    "colors = []\n",
    "for genre in netflix_movies['genre']:\n",
    "    if genre == 'Children':\n",
    "        colors.append('blue')\n",
    "    elif genre == 'Documentaries':\n",
    "        colors.append('red')\n",
    "    else:\n",
    "        colors.append('black')\n",
    "        \n",
    "#print(colors)"
   ]
  },
  {
   "cell_type": "code",
   "execution_count": 113,
   "id": "f95cfc16-db3e-4ae2-89ee-8751da1b33e2",
   "metadata": {
    "executionCancelledAt": null,
    "executionTime": 281,
    "lastExecutedAt": 1711663024372,
    "lastScheduledRunId": null,
    "lastSuccessfullyExecutedCode": "fig = plt.figure()\n\nplt.scatter(netflix_movies['release_year'], netflix_movies['duration'], c=colors)\nplt.xlabel('Release year')\nplt.ylabel('Duration (min)')\nplt.title('Movie Duration by Year of Release')\nplt.show()"
   },
   "outputs": [
    {
     "data": {
      "image/png": "[encoded data removed]",
      "text/plain": [
       "<Figure size 640x480 with 1 Axes>"
      ]
     },
     "metadata": {},
     "output_type": "display_data"
    }
   ],
   "source": [
    "fig = plt.figure()\n",
    "\n",
    "plt.scatter(netflix_movies['release_year'], netflix_movies['duration'], c=colors)\n",
    "plt.xlabel('Release year')\n",
    "plt.ylabel('Duration (min)')\n",
    "plt.title('Movie Duration by Year of Release')\n",
    "plt.show()"
   ]
  },
  {
   "cell_type": "code",
   "execution_count": null,
   "id": "3bbe09be-1c4c-4e2c-bd9e-70610d5a7d42",
   "metadata": {
    "executionCancelledAt": null,
    "executionTime": 50,
    "lastExecutedAt": 1711663024422,
    "lastScheduledRunId": null,
    "lastSuccessfullyExecutedCode": "answer = 'no'\n\n## We are not 100% certain that movies are in fact getting shorter. There are many short films that seem to be short but there are plenty of movies that are keeping up with the overall trend of movies being 100 - 120 mins in length. Further analysis would be needed. "
   },
   "outputs": [],
   "source": [
    "## We are not 100% certain that movies are in fact getting shorter. There are many short films that seem to be short but there are plenty of movies that are keeping up with the overall trend of movies being 100 - 120 mins in length. Further analysis would be needed. "
   ]
  },
  {
   "cell_type": "code",
   "execution_count": 115,
   "id": "e2b49731-8f85-4a9b-8588-7523588bdf3e",
   "metadata": {
    "executionCancelledAt": null,
    "executionTime": 46,
    "lastExecutedAt": 1711663024470,
    "lastScheduledRunId": null,
    "lastSuccessfullyExecutedCode": "# Now I will create a line plot to get the median duration of the year for each year \n\nprint(netflix_movies['release_year'].value_counts())",
    "outputsMetadata": {
     "0": {
      "height": 257,
      "type": "stream"
     }
    }
   },
   "outputs": [
    {
     "name": "stdout",
     "output_type": "stream",
     "text": [
      "2017    744\n",
      "2018    734\n",
      "2016    642\n",
      "2019    582\n",
      "2020    411\n",
      "       ... \n",
      "1946      1\n",
      "1963      1\n",
      "1964      1\n",
      "1947      1\n",
      "1959      1\n",
      "Name: release_year, Length: 72, dtype: int64\n"
     ]
    }
   ],
   "source": [
    "# Now I will create a line plot to get the median duration of the year for each year \n",
    "\n",
    "print(netflix_movies['release_year'].value_counts())"
   ]
  },
  {
   "cell_type": "code",
   "execution_count": 116,
   "id": "3cfae35b-b650-435b-8465-b3ea465ad175",
   "metadata": {
    "executionCancelledAt": null,
    "executionTime": 53,
    "lastExecutedAt": 1711663024523,
    "lastScheduledRunId": null,
    "lastSuccessfullyExecutedCode": "grouped_year = netflix_movies.groupby('release_year')\nmedian_film_duration_by_year = grouped_year.median()\n\nprint(median_film_duration_by_year)\nprint(median_film_duration_by_year.columns)",
    "outputsMetadata": {
     "0": {
      "height": 337,
      "type": "stream"
     }
    }
   },
   "outputs": [
    {
     "name": "stdout",
     "output_type": "stream",
     "text": [
      "              duration\n",
      "release_year          \n",
      "1942              35.0\n",
      "1943              61.0\n",
      "1944              40.0\n",
      "1945              59.0\n",
      "1946              58.0\n",
      "...                ...\n",
      "2017              94.0\n",
      "2018              96.0\n",
      "2019              95.0\n",
      "2020              94.0\n",
      "2021              93.0\n",
      "\n",
      "[72 rows x 1 columns]\n",
      "Index(['duration'], dtype='object')\n"
     ]
    }
   ],
   "source": [
    "grouped_year = netflix_movies.groupby('release_year')\n",
    "median_film_duration_by_year = grouped_year.median()\n",
    "\n",
    "print(median_film_duration_by_year)\n",
    "print(median_film_duration_by_year.columns)"
   ]
  },
  {
   "cell_type": "code",
   "execution_count": 117,
   "id": "e9d1d8f0-2958-4bf6-a0b4-c3ae8fd8ff99",
   "metadata": {
    "executionCancelledAt": null,
    "executionTime": 182,
    "lastExecutedAt": 1711663024705,
    "lastScheduledRunId": null,
    "lastSuccessfullyExecutedCode": "plt.plot(median_film_duration_by_year.index, \n         median_film_duration_by_year['duration'])\nplt.xlabel('Release Year')\nplt.ylabel('Duration (mins)')\nplt.title('Change of Median Duration of Film Each Year')\nplt.show()"
   },
   "outputs": [
    {
     "data": {
      "image/png": "[encoded data removed]",
      "text/plain": [
       "<Figure size 640x480 with 1 Axes>"
      ]
     },
     "metadata": {},
     "output_type": "display_data"
    }
   ],
   "source": [
    "plt.plot(median_film_duration_by_year.index, \n",
    "         median_film_duration_by_year['duration'])\n",
    "plt.xlabel('Release Year')\n",
    "plt.ylabel('Duration (mins)')\n",
    "plt.title('Change of Median Duration of Film Each Year')\n",
    "plt.show()"
   ]
  },
  {
   "cell_type": "code",
   "execution_count": null,
   "id": "7f7ca175-73b9-4987-81ef-3744c1070edb",
   "metadata": {
    "executionCancelledAt": null,
    "executionTime": 53,
    "lastExecutedAt": 1711663024758,
    "lastScheduledRunId": null,
    "lastSuccessfullyExecutedCode": "#Here we can see that the median duration of films have been trending down for the last 20 years or so.... What could be the reason for this?"
   },
   "outputs": [],
   "source": [
    "#Here we can see that the median duration of films have been trending down for the last 20 years or so having hitting a peak in the 1960s"
   ]
  }
 ],
 "metadata": {
  "colab": {
   "name": "Welcome to DataCamp Workspaces.ipynb",
   "provenance": []
  },
  "kernelspec": {
   "display_name": "Python 3 (ipykernel)",
   "language": "python",
   "name": "python3"
  },
  "language_info": {
   "codemirror_mode": {
    "name": "ipython",
    "version": 3
   },
   "file_extension": ".py",
   "mimetype": "text/x-python",
   "name": "python",
   "nbconvert_exporter": "python",
   "pygments_lexer": "ipython3",
   "version": "3.8.10"
  }
 },
 "nbformat": 4,
 "nbformat_minor": 5
}
